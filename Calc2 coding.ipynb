{
 "cells": [
  {
   "cell_type": "code",
   "execution_count": null,
   "id": "4a0b68a4-38cd-4e20-a5d8-0f8edae76e42",
   "metadata": {},
   "outputs": [],
   "source": [
    "# Austin Pace \n",
    "# Calc 2"
   ]
  },
  {
   "cell_type": "code",
   "execution_count": null,
   "id": "a96b09da-98fc-470b-b5cc-a1ce55b8a40d",
   "metadata": {},
   "outputs": [],
   "source": [
    "### This is my favorite function right now"
   ]
  },
  {
   "cell_type": "code",
   "execution_count": 1,
   "id": "34fff9a3-4510-4326-a881-ba54f1df7ec4",
   "metadata": {},
   "outputs": [
    {
     "name": "stdout",
     "output_type": "stream",
     "text": [
      "f(6) = 58\n",
      "f(-50) = 2410\n",
      "f(-3) = 13\n",
      "f(47) = 2313\n",
      "f(-21) = 409\n",
      "f(25) = 685\n",
      "f(39) = 1609\n",
      "f(-47) = 2125\n",
      "f(-9) = 73\n",
      "f(-48) = 2218\n"
     ]
    }
   ],
   "source": [
    "import random\n",
    "\n",
    "def f(x): \n",
    "    return x**2 + 2*x + 10 # Define a function\n",
    "\n",
    "for i in range(10): # Repeat 10 times\n",
    "    x = random.randint(-50, 50) # Generates a random integer between -50 and 50\n",
    "    print(f\"f({x}) = {f(x)}\") # Print f(x) for random x"
   ]
  },
  {
   "cell_type": "code",
   "execution_count": 3,
   "id": "6a122f46-bb86-4bfd-b907-7094b1191017",
   "metadata": {},
   "outputs": [
    {
     "name": "stdout",
     "output_type": "stream",
     "text": [
      "2*x + 2\n",
      "x**3/3 + x**2 + 10*x\n"
     ]
    }
   ],
   "source": [
    "import sympy as sp\n",
    "\n",
    "x = sp.symbols('x') # Define variable x\n",
    "f = x**2 + 2*x + 10  # Define function f\n",
    "\n",
    "print(sp.diff(f, x)) # Derivative of f with respect to x\n",
    "print(sp.integrate(f, x)) # integral of f with respect to x"
   ]
  },
  {
   "cell_type": "code",
   "execution_count": null,
   "id": "680f0412-6390-4bdc-91c0-f905559d95a5",
   "metadata": {},
   "outputs": [],
   "source": []
  }
 ],
 "metadata": {
  "kernelspec": {
   "display_name": "Python [conda env:base] *",
   "language": "python",
   "name": "conda-base-py"
  },
  "language_info": {
   "codemirror_mode": {
    "name": "ipython",
    "version": 3
   },
   "file_extension": ".py",
   "mimetype": "text/x-python",
   "name": "python",
   "nbconvert_exporter": "python",
   "pygments_lexer": "ipython3",
   "version": "3.12.7"
  }
 },
 "nbformat": 4,
 "nbformat_minor": 5
}
