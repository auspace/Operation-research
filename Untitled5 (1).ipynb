{
 "cells": [
  {
   "cell_type": "markdown",
   "id": "9a1bed5b-b63f-4b28-9142-6d243bfe1f26",
   "metadata": {},
   "source": [
    "### Characteristic equation: r^2 - 7r + 10 = 0 = (r - 5)(r - 2)\n",
    "### Roots: r1 = 5, r2 = 2\n",
    "### General form: f(n) = A*5^n + B*2^n\n",
    "\n",
    "### Using initial conditions:\n",
    "### A + B = 1\n",
    "### 5A + 2B = 3\n",
    "\n",
    "### Solving gives: A = 1/3, B = 2/3\n",
    "\n",
    "### Final solution:\n",
    "### f(n) = (1/3)*5^n + (2/3)*2^n\n",
    "### f(5) = 1063"
   ]
  },
  {
   "cell_type": "code",
   "execution_count": 5,
   "id": "a21a9bf8-e013-4a41-9813-a0627033e29e",
   "metadata": {},
   "outputs": [
    {
     "name": "stdout",
     "output_type": "stream",
     "text": [
      "1063\n"
     ]
    }
   ],
   "source": [
    "def b(n):\n",
    "    if n == 0:\n",
    "        return 1\n",
    "    elif n == 1:\n",
    "        return 3\n",
    "    else:\n",
    "        return 7*b(n-1) - 10*b(n-2)\n",
    "print(b(5))"
   ]
  },
  {
   "cell_type": "code",
   "execution_count": 6,
   "id": "63560dc1-8e46-49ca-a9f5-796593b83aa6",
   "metadata": {},
   "outputs": [
    {
     "name": "stdout",
     "output_type": "stream",
     "text": [
      "1063\n"
     ]
    }
   ],
   "source": [
    "def a(n):\n",
    "    if n == 0:\n",
    "        return 1\n",
    "    elif n == 1:\n",
    "        return 3\n",
    "    else:\n",
    "        l = [0]*(n+1)\n",
    "        l[0] = 1   \n",
    "        l[1] = 3\n",
    "        for i in range(2, n+1):\n",
    "            l[i] = 7*l[i-1] - 10*l[i-2]\n",
    "        return l[n]\n",
    "print(a(5))"
   ]
  },
  {
   "cell_type": "markdown",
   "id": "c21fd0eb-1ea0-400f-bda9-1e3a63f0b010",
   "metadata": {},
   "source": [
    "### The recursive method is easy to write but slow for large 𝑛 since it repeatedly recalculates values, finding the 1000th term would take a long time building a large tree.\n",
    "### The iterative method is faster and simple to code, as it reuses previous results instead of repeating work.\n",
    "### The analytic method is the fastest since it computes any term directly with one formula, but it’s harder me to do and takes more time to set up."
   ]
  },
  {
   "cell_type": "code",
   "execution_count": null,
   "id": "94d2a266-5a7d-4e4f-a910-15a20168ec7a",
   "metadata": {},
   "outputs": [],
   "source": []
  }
 ],
 "metadata": {
  "kernelspec": {
   "display_name": "Python [conda env:base] *",
   "language": "python",
   "name": "conda-base-py"
  },
  "language_info": {
   "codemirror_mode": {
    "name": "ipython",
    "version": 3
   },
   "file_extension": ".py",
   "mimetype": "text/x-python",
   "name": "python",
   "nbconvert_exporter": "python",
   "pygments_lexer": "ipython3",
   "version": "3.13.5"
  }
 },
 "nbformat": 4,
 "nbformat_minor": 5
}
