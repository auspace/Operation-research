{
 "cells": [
  {
   "cell_type": "markdown",
   "id": "a9ff4fdb-d9cc-4602-aa14-610f83a46185",
   "metadata": {},
   "source": [
    "# Austin Pace\n",
    "# Operations Research\n",
    "# Lab 0"
   ]
  },
  {
   "cell_type": "markdown",
   "id": "0b4648b1-b380-4366-9bf0-5e023c9c567f",
   "metadata": {},
   "source": [
    "### My favorite function is the piecewise function because it is bassically just an elif statement."
   ]
  },
  {
   "cell_type": "code",
   "execution_count": 13,
   "id": "f1bc4751-c278-4439-a749-1b9f3018b8b5",
   "metadata": {},
   "outputs": [
    {
     "name": "stdout",
     "output_type": "stream",
     "text": [
      "x = -20.754751592874076, result = 20.754751592874076\n",
      "x = 21.962558463130748, result = 44.925116926261495\n",
      "x = 18.522291322743627, result = 38.04458264548725\n",
      "x = -42.8907420018421, result = 42.8907420018421\n",
      "x = 6.716655797273354, result = 45.11346509904576\n",
      "x = 44.60786061648899, result = 90.21572123297798\n",
      "x = -30.927017152008375, result = 30.927017152008375\n",
      "x = 41.53286136892642, result = 84.06572273785284\n",
      "x = -12.065593449826665, result = 12.065593449826665\n",
      "x = -49.40112708641921, result = 49.40112708641921\n",
      "Sum of all results: 458.40383992459573\n",
      "Minimum result: 12.065593449826665\n",
      "Maximum result: 90.21572123297798\n",
      "Average result: 45.84038399245957\n"
     ]
    }
   ],
   "source": [
    "import random\n",
    "val_list = []\n",
    "def piecewise(x): # Define a piecewise function\n",
    "    if x < 0: # If x is less than 0 \n",
    "        return -x # Return the negative of x\n",
    "    elif 0 <= x < 13: # If x is between 0 and 10\n",
    "        return x**2 # Return x squared\n",
    "    else: # If x is 13 or greater\n",
    "        return 2*x + 1 # Return 2 times x plus 1\n",
    "    \n",
    "for _ in range(10): # Repeat 10 times\n",
    "    x = random.uniform(-50, 50)  # Generates a random float between -50 and 50\n",
    "    result = piecewise(x) # Call the piecewise function with the random x\n",
    "    print(f\"x = {x}, result = {result}\")# Print the result\n",
    "    val_list.append(result)\n",
    "\n",
    "sum_val = sum(val_list) # Calculate the sum of all results\n",
    "min_val = min(val_list) # Find the minimum result\n",
    "max_val = max(val_list) # Find the maximum result\n",
    "avg_val = sum_val / len(val_list) # Calculate the average\n",
    "print(f\"Sum of all results: {sum_val}\") # Print the sum\n",
    "print(f\"Minimum result: {min_val}\") # Print the minimum\n",
    "print(f\"Maximum result: {max_val}\") # Print the maximum\n",
    "print(f\"Average result: {avg_val}\") # Print the average"
   ]
  },
  {
   "cell_type": "markdown",
   "id": "481d0e28-5b42-4805-8444-6c437867377c",
   "metadata": {},
   "source": [
    "### I got the values by getting a random num between -50 and 50 then put each value through the piecewise function. Then I stored all the values in a list in which i got the sum, min, max, and average."
   ]
  },
  {
   "cell_type": "code",
   "execution_count": null,
   "id": "cac98c42-4e3b-4d47-89a8-14cfb5bc5224",
   "metadata": {},
   "outputs": [],
   "source": []
  }
 ],
 "metadata": {
  "kernelspec": {
   "display_name": "Python [conda env:base] *",
   "language": "python",
   "name": "conda-base-py"
  },
  "language_info": {
   "codemirror_mode": {
    "name": "ipython",
    "version": 3
   },
   "file_extension": ".py",
   "mimetype": "text/x-python",
   "name": "python",
   "nbconvert_exporter": "python",
   "pygments_lexer": "ipython3",
   "version": "3.12.7"
  }
 },
 "nbformat": 4,
 "nbformat_minor": 5
}
