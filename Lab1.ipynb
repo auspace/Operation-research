{
 "cells": [
  {
   "cell_type": "code",
   "execution_count": 1,
   "id": "01a93e21-08ba-4ea9-aafc-33c0f405e618",
   "metadata": {},
   "outputs": [
    {
     "name": "stdin",
     "output_type": "stream",
     "text": [
      "Enter income  500000\n"
     ]
    },
    {
     "name": "stdout",
     "output_type": "stream",
     "text": [
      "Your tax is  146894.5\n"
     ]
    }
   ],
   "source": [
    "def taxfunc(income):\n",
    "    if income <= 11000:\n",
    "        tax = income * 0.1\n",
    "    elif income <= 44725:\n",
    "        tax = 1100 + (income - 11000) * 0.12\n",
    "    elif income <= 95375:\n",
    "        tax = 5147 + (income - 44725) * 0.22\n",
    "    elif income <= 182100:\n",
    "        tax = 16290 + (income - 95375) * 0.24  \n",
    "    elif income <= 231250:\n",
    "        tax = 37104 + (income - 182100) * 0.32\n",
    "    elif income <= 578125:\n",
    "        tax = 52832 + (income - 231250) * 0.35\n",
    "    elif income >= 578126:\n",
    "        tax = 174238.25 + (income - 578125) * 0.37\n",
    "    return tax\n",
    "\n",
    "tinput = float(input(\"Enter income \"))\n",
    "print(\"Your tax is \", taxfunc(tinput))\n"
   ]
  },
  {
   "cell_type": "code",
   "execution_count": 3,
   "id": "3a869714-fad5-4d5f-87d6-06c0620e0b89",
   "metadata": {},
   "outputs": [
    {
     "name": "stdout",
     "output_type": "stream",
     "text": [
      "h = 1, derivative = 0.6931471805599453\n",
      "h = 0.1, derivative = 0.9531017980432493\n",
      "h = 0.001, derivative = 0.9995003330834232\n",
      "h = 0.002, derivative = 0.9990013313365289\n",
      "h = 0.0001, derivative = 0.9999500033329731\n",
      "h = 1e-10, derivative = 1.000000082690371\n"
     ]
    }
   ],
   "source": [
    "import numpy as np\n",
    "\n",
    "hval = [1, 0.1, 0.001, 0.002, 0.0001, 0.0000000001]\n",
    "\n",
    "def diffform(h):\n",
    "    return (np.log(1 + h) - np.log(1)) / h\n",
    "\n",
    "for h in hval:\n",
    "    print(f\"h = {h}, derivative = {diffform(h)}\")"
   ]
  },
  {
   "cell_type": "code",
   "execution_count": 5,
   "id": "e231b78a-88b8-4184-9ffd-42865dad0b3e",
   "metadata": {},
   "outputs": [
    {
     "name": "stdout",
     "output_type": "stream",
     "text": [
      "n = 1,  formula = 1\n",
      "n = 2,  formula = 9\n",
      "n = 3,  formula = 36\n",
      "n = 4,  formula = 100\n",
      "n = 5,  formula = 225\n",
      "n = 6,  formula = 441\n",
      "n = 7,  formula = 784\n",
      "n = 8,  formula = 1296\n",
      "n = 9,  formula = 2025\n",
      "n = 10,  formula = 3025\n"
     ]
    }
   ],
   "source": [
    "def formula(n):\n",
    "    return ((n * (n + 1)) // 2) ** 2\n",
    "\n",
    "for n in range(1, 11):\n",
    "    print(f\"n = {n},  formula = {formula(n)}\")"
   ]
  },
  {
   "cell_type": "code",
   "execution_count": null,
   "id": "7ea2ed43-d257-46b2-be01-956d99b900df",
   "metadata": {},
   "outputs": [],
   "source": []
  }
 ],
 "metadata": {
  "kernelspec": {
   "display_name": "Python [conda env:base] *",
   "language": "python",
   "name": "conda-base-py"
  },
  "language_info": {
   "codemirror_mode": {
    "name": "ipython",
    "version": 3
   },
   "file_extension": ".py",
   "mimetype": "text/x-python",
   "name": "python",
   "nbconvert_exporter": "python",
   "pygments_lexer": "ipython3",
   "version": "3.12.7"
  }
 },
 "nbformat": 4,
 "nbformat_minor": 5
}
