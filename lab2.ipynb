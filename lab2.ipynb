{
 "cells": [
  {
   "cell_type": "code",
   "execution_count": 7,
   "id": "ed2a7f01-c9bd-4700-a46c-5abf628d8b78",
   "metadata": {},
   "outputs": [
    {
     "name": "stdout",
     "output_type": "stream",
     "text": [
      "There are 472 zeros\n"
     ]
    }
   ],
   "source": [
    "import math\n",
    "\n",
    "zeros = []\n",
    "x = math.factorial(1000)\n",
    "x = str(x)\n",
    "for i in x :\n",
    "    if i == '0' :\n",
    "        zeros.append(i)\n",
    "\n",
    "print(f\"There are {len(zeros)} zeros\")\n",
    "\n"
   ]
  },
  {
   "cell_type": "code",
   "execution_count": 6,
   "id": "673fd931-8537-4533-ac95-4c2a766fbcb4",
   "metadata": {},
   "outputs": [
    {
     "name": "stdout",
     "output_type": "stream",
     "text": [
      "99999999999999999999999974\n",
      " sum of the numbers = 227\n"
     ]
    }
   ],
   "source": [
    "y = 100**(13)-26\n",
    "print(y)\n",
    "\n",
    "digits = []\n",
    "for i in str(y):\n",
    "    digits.append(int(i))\n",
    "\n",
    "digit_sum = sum(digits)\n",
    "print(f\" sum of the numbers = {digit_sum}\")"
   ]
  },
  {
   "cell_type": "code",
   "execution_count": 10,
   "id": "caa91714-335f-4ec3-b57a-1baca68fa532",
   "metadata": {},
   "outputs": [
    {
     "name": "stdout",
     "output_type": "stream",
     "text": [
      "171.0 handshakes\n"
     ]
    }
   ],
   "source": [
    "y = (10 * 10)/2 + 11 * 11\n",
    "print(f\"{y} handshakes\")"
   ]
  },
  {
   "cell_type": "markdown",
   "id": "f94ff3bb-8f8b-448b-9d1b-4006e846e66c",
   "metadata": {},
   "source": [
    "## I got 40 by drawing lines from one person to each other minus their spouse but you could do (8 * 10)/2 = 40 "
   ]
  },
  {
   "cell_type": "code",
   "execution_count": null,
   "id": "188c1130-04eb-4164-8cdc-d565d07892aa",
   "metadata": {},
   "outputs": [],
   "source": []
  }
 ],
 "metadata": {
  "kernelspec": {
   "display_name": "anaconda-panel-2023.05-py310",
   "language": "python",
   "name": "conda-env-anaconda-panel-2023.05-py310-py"
  },
  "language_info": {
   "codemirror_mode": {
    "name": "ipython",
    "version": 3
   },
   "file_extension": ".py",
   "mimetype": "text/x-python",
   "name": "python",
   "nbconvert_exporter": "python",
   "pygments_lexer": "ipython3",
   "version": "3.11.5"
  }
 },
 "nbformat": 4,
 "nbformat_minor": 5
}
